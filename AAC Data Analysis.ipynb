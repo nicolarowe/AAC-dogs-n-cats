{
 "cells": [
  {
   "cell_type": "markdown",
   "id": "eb11cc54",
   "metadata": {},
   "source": [
    "# Austin Animal Center Euthanasia Analysis\n",
    "Below I am going to analyze euthanasia statistics for dogs and cats at the Austin Animal Center. Raw data was collected from the City of Austin.\n",
    "\n",
    "To filter `'austin-animal-center-outcomes-1.csv'` for analysis, I used the following SQL query and exported the results to `'aac-dog-cat-euthanasia.csv'`.\n",
    "\n",
    "```SQL\n",
    "SELECT animal_id, name, animal_type, outcome_subtype, sex_upon_outcome, age_upon_outcome FROM austin_animal_center_outcomes_1\n",
    "WHERE outcome_type = 'Euthanasia'\n",
    "    AND (animal_type = 'Dog' OR animal_type = 'Cat')\n",
    "ORDER BY animal_id\n",
    "```\n",
    "\n",
    "This query limited the dataset to dogs and cats that have been euthanized at the Austin Animal Center from October 1st, 2013 to May 15, 2020 and the columns I am interested in comparing."
   ]
  },
  {
   "cell_type": "code",
   "execution_count": null,
   "id": "740b737c",
   "metadata": {
    "scrolled": true
   },
   "outputs": [],
   "source": [
    "import pandas as pd\n",
    "import numpy as np\n",
    "import matplotlib.pyplot as plt\n",
    "\n",
    "df = pd.read_csv('aac-dog-cat-euthanasia.csv')\n",
    "\n",
    "df.head()"
   ]
  },
  {
   "cell_type": "markdown",
   "id": "ab44a0f8",
   "metadata": {},
   "source": [
    "In order to analyze this dataset most efficiently, the `sex_upon_outcome` and `age_upon_outcome` columns must be cleaned up.\n",
    "\n",
    "The `sex_upon_outcome` column will be simplified to `'Male'` or `'Female'`, disregarding fixed status. Sex marked as `'Unknown'` will remain unchanged.\n",
    "\n",
    "`'age_upon_outcome'` cells in which the age is in weeks, months, or days or is marked as `'0 years'` will be re-coded to `'< 1 year'`. Age marked as `NULL` will remain unchanged."
   ]
  },
  {
   "cell_type": "code",
   "execution_count": 114,
   "id": "2a01612a",
   "metadata": {
    "scrolled": true
   },
   "outputs": [],
   "source": [
    "simplify_sex = lambda sex: sex.split()[-1]\n",
    "df['sex_upon_outcome'] = df['sex_upon_outcome'].apply(simplify_sex)\n",
    "\n",
    "simplify_age = lambda age: '< 1 year' if (age == '0 years' or 'week' in str(age) or 'month' in str(age) or 'day' in str(age)) else age\n",
    "df['age_upon_outcome'] = df['age_upon_outcome'].apply(simplify_age)"
   ]
  },
  {
   "cell_type": "markdown",
   "id": "c0febb96",
   "metadata": {},
   "source": [
    "This simplified dataframe will be saved to a new CSV."
   ]
  },
  {
   "cell_type": "code",
   "execution_count": 115,
   "id": "e293f38a",
   "metadata": {
    "scrolled": true
   },
   "outputs": [
    {
     "data": {
      "text/html": [
       "<div>\n",
       "<style scoped>\n",
       "    .dataframe tbody tr th:only-of-type {\n",
       "        vertical-align: middle;\n",
       "    }\n",
       "\n",
       "    .dataframe tbody tr th {\n",
       "        vertical-align: top;\n",
       "    }\n",
       "\n",
       "    .dataframe thead th {\n",
       "        text-align: right;\n",
       "    }\n",
       "</style>\n",
       "<table border=\"1\" class=\"dataframe\">\n",
       "  <thead>\n",
       "    <tr style=\"text-align: right;\">\n",
       "      <th></th>\n",
       "      <th>animal_id</th>\n",
       "      <th>name</th>\n",
       "      <th>animal_type</th>\n",
       "      <th>outcome_subtype</th>\n",
       "      <th>sex_upon_outcome</th>\n",
       "      <th>age_upon_outcome</th>\n",
       "    </tr>\n",
       "  </thead>\n",
       "  <tbody>\n",
       "    <tr>\n",
       "      <th>676</th>\n",
       "      <td>A673611</td>\n",
       "      <td>Blackie</td>\n",
       "      <td>Dog</td>\n",
       "      <td>Aggressive</td>\n",
       "      <td>Male</td>\n",
       "      <td>2 years</td>\n",
       "    </tr>\n",
       "    <tr>\n",
       "      <th>1774</th>\n",
       "      <td>A701992</td>\n",
       "      <td>Tau</td>\n",
       "      <td>Dog</td>\n",
       "      <td>Aggressive</td>\n",
       "      <td>Male</td>\n",
       "      <td>5 years</td>\n",
       "    </tr>\n",
       "    <tr>\n",
       "      <th>883</th>\n",
       "      <td>A679533</td>\n",
       "      <td>Star</td>\n",
       "      <td>Dog</td>\n",
       "      <td>Aggressive</td>\n",
       "      <td>Female</td>\n",
       "      <td>3 years</td>\n",
       "    </tr>\n",
       "    <tr>\n",
       "      <th>520</th>\n",
       "      <td>A669416</td>\n",
       "      <td>Espana</td>\n",
       "      <td>Dog</td>\n",
       "      <td>Aggressive</td>\n",
       "      <td>Female</td>\n",
       "      <td>1 year</td>\n",
       "    </tr>\n",
       "    <tr>\n",
       "      <th>1707</th>\n",
       "      <td>A700027</td>\n",
       "      <td>NaN</td>\n",
       "      <td>Dog</td>\n",
       "      <td>Aggressive</td>\n",
       "      <td>Female</td>\n",
       "      <td>1 year</td>\n",
       "    </tr>\n",
       "  </tbody>\n",
       "</table>\n",
       "</div>"
      ],
      "text/plain": [
       "     animal_id     name animal_type outcome_subtype sex_upon_outcome  \\\n",
       "676    A673611  Blackie         Dog      Aggressive             Male   \n",
       "1774   A701992      Tau         Dog      Aggressive             Male   \n",
       "883    A679533     Star         Dog      Aggressive           Female   \n",
       "520    A669416   Espana         Dog      Aggressive           Female   \n",
       "1707   A700027      NaN         Dog      Aggressive           Female   \n",
       "\n",
       "     age_upon_outcome  \n",
       "676           2 years  \n",
       "1774          5 years  \n",
       "883           3 years  \n",
       "520            1 year  \n",
       "1707           1 year  "
      ]
     },
     "execution_count": 115,
     "metadata": {},
     "output_type": "execute_result"
    }
   ],
   "source": [
    "df.to_csv('aac-dog-cat-euthanasia-simplified.csv')\n",
    "df.head()"
   ]
  },
  {
   "cell_type": "code",
   "execution_count": 154,
   "id": "1123ec38",
   "metadata": {
    "scrolled": true
   },
   "outputs": [
    {
     "data": {
      "image/png": "[encoded data removed]",
      "text/plain": [
       "<Figure size 432x144 with 2 Axes>"
      ]
     },
     "metadata": {
      "needs_background": "light"
     },
     "output_type": "display_data"
    }
   ],
   "source": [
    "plt.subplot(1, 2, 1)\n",
    "ax = df[df['animal_type'] == 'Dog'].outcome_subtype.value_counts().plot.bar(ylim=(0,1500))\n",
    "plt.title('# of Dogs Euthanized by Outcome Subtype')\n",
    "\n",
    "plt.subplot(1, 2, 2)\n",
    "ax = df[df['animal_type'] == 'Cat'].outcome_subtype.value_counts().plot.bar(ylim=(0,1500))\n",
    "plt.title('# of Cats Euthanized by Outcome Subtype')\n",
    "\n",
    "plt.tight_layout(w_pad=8, pad=-8)"
   ]
  },
  {
   "cell_type": "markdown",
   "id": "a0a3583f",
   "metadata": {},
   "source": [
    "The above graphs compare the euthanasia subtypes (or reasons for euthanasia) reported by the Austin Animal Center.\n",
    "\n",
    "Both dogs and cats had 'Suffering' as the most common reason for being euthanized. However, dogs had more variation in subtype while cats were overwhelmingly put down for this single reason."
   ]
  },
  {
   "cell_type": "code",
   "execution_count": 131,
   "id": "822fdc02",
   "metadata": {},
   "outputs": [
    {
     "data": {
      "image/png": "[encoded data removed]",
      "text/plain": [
       "<Figure size 432x144 with 2 Axes>"
      ]
     },
     "metadata": {
      "needs_background": "light"
     },
     "output_type": "display_data"
    }
   ],
   "source": [
    "plt.subplot(1, 2, 1)\n",
    "ax = df[df['animal_type'] == 'Dog'].sex_upon_outcome.value_counts().plot.bar(ylim=(0,1000))\n",
    "plt.title('# of Dogs Euthanized by Sex')\n",
    "\n",
    "plt.subplot(1, 2, 2)\n",
    "ax = df[df['animal_type'] == 'Cat'].sex_upon_outcome.value_counts().plot.bar(ylim=(0,1000))\n",
    "plt.title('# of Cats Euthanized by Sex')\n",
    "\n",
    "plt.tight_layout(w_pad=8, pad=-8)"
   ]
  },
  {
   "cell_type": "markdown",
   "id": "8c5a1353",
   "metadata": {},
   "source": [
    "The above graphs compare the sex of the dogs and cats reported by the Austin Animal Center.\n",
    "\n",
    "Cats had a significantly higher number of 'Unknown' sex animals upon euthanasia. As demonstrated by the graph below, this could be due to the number of young ('< 1 year') cats euthanized. According to the [United States Humane Society](https://humanepro.org/magazine/articles/fact-sheet-how-determine-kittens-sex), it can take up until a cat is 10 weeks old to determine its sex."
   ]
  },
  {
   "cell_type": "code",
   "execution_count": 135,
   "id": "2a73cb8f",
   "metadata": {},
   "outputs": [
    {
     "data": {
      "image/png": "[encoded data removed]",
      "text/plain": [
       "<Figure size 432x144 with 1 Axes>"
      ]
     },
     "metadata": {
      "needs_background": "light"
     },
     "output_type": "display_data"
    }
   ],
   "source": [
    "ax = df[df['animal_type'] == 'Cat'].age_upon_outcome.value_counts().plot.bar(ylim=(0,1000))\n",
    "plt.title('# of Cats Euthanized by Age')\n",
    "\n",
    "plt.tight_layout(pad=-8)"
   ]
  }
 ],
 "metadata": {
  "kernelspec": {
   "display_name": "Python 3 (ipykernel)",
   "language": "python",
   "name": "python3"
  },
  "language_info": {
   "codemirror_mode": {
    "name": "ipython",
    "version": 3
   },
   "file_extension": ".py",
   "mimetype": "text/x-python",
   "name": "python",
   "nbconvert_exporter": "python",
   "pygments_lexer": "ipython3",
   "version": "3.9.12"
  }
 },
 "nbformat": 4,
 "nbformat_minor": 5
}
